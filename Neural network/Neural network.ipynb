{
 "cells": [
  {
   "cell_type": "code",
   "execution_count": 9,
   "metadata": {},
   "outputs": [],
   "source": [
    "import numpy as np\n",
    "import pandas as pd\n",
    "import tensorflow as tf\n",
    "from sklearn.model_selection import train_test_split\n"
   ]
  },
  {
   "cell_type": "code",
   "execution_count": 10,
   "metadata": {},
   "outputs": [],
   "source": [
    "\n",
    "data = pd.read_csv('dividendinfo.csv')\n",
    "np.random.seed(123)"
   ]
  },
  {
   "cell_type": "code",
   "execution_count": 11,
   "metadata": {},
   "outputs": [],
   "source": [
    "data_norm = (data - data.min()) / (data.max() - data.min())\n",
    "X=data_norm.drop(['dividend'],axis=1)\n",
    "y=data_norm.dividend\n",
    "\n",
    "X_train, X_test, y_train, y_test = train_test_split(X, y, test_size=0.2, random_state=1)"
   ]
  },
  {
   "cell_type": "code",
   "execution_count": 50,
   "metadata": {},
   "outputs": [
    {
     "name": "stdout",
     "output_type": "stream",
     "text": [
      "Epoch 1/10\n",
      "54/54 [==============================] - 0s 476us/step - loss: 0.6854 - accuracy: 0.5375\n",
      "Epoch 2/10\n",
      "54/54 [==============================] - 0s 438us/step - loss: 0.6679 - accuracy: 0.5938\n",
      "Epoch 3/10\n",
      "54/54 [==============================] - 0s 416us/step - loss: 0.6572 - accuracy: 0.6313\n",
      "Epoch 4/10\n",
      "54/54 [==============================] - 0s 407us/step - loss: 0.6506 - accuracy: 0.6562\n",
      "Epoch 5/10\n",
      "54/54 [==============================] - 0s 503us/step - loss: 0.6449 - accuracy: 0.6625\n",
      "Epoch 6/10\n",
      "54/54 [==============================] - 0s 406us/step - loss: 0.6391 - accuracy: 0.6938\n",
      "Epoch 7/10\n",
      "54/54 [==============================] - 0s 422us/step - loss: 0.6330 - accuracy: 0.7000\n",
      "Epoch 8/10\n",
      "54/54 [==============================] - 0s 420us/step - loss: 0.6272 - accuracy: 0.6875\n",
      "Epoch 9/10\n",
      "54/54 [==============================] - 0s 390us/step - loss: 0.6218 - accuracy: 0.7063\n",
      "Epoch 10/10\n",
      "54/54 [==============================] - 0s 422us/step - loss: 0.6155 - accuracy: 0.7000\n"
     ]
    },
    {
     "data": {
      "text/plain": [
       "<keras.callbacks.History at 0x2beb63eb0>"
      ]
     },
     "execution_count": 50,
     "metadata": {},
     "output_type": "execute_result"
    }
   ],
   "source": [
    "\n",
    "model = tf.keras.models.Sequential([\n",
    "  tf.keras.layers.Flatten(input_shape=(5,)),\n",
    "  tf.keras.layers.Dense(3, activation='relu'),\n",
    "  tf.keras.layers.Dense(2, activation='relu'),\n",
    "  tf.keras.layers.Dense(1, activation='sigmoid')\n",
    "])\n",
    "model.compile(loss='binary_crossentropy', optimizer='adam', metrics=['accuracy'])\n",
    "model.fit(X_train, y_train, epochs=10, batch_size=3)"
   ]
  }
 ],
 "metadata": {
  "kernelspec": {
   "display_name": "Python 3.10.8 64-bit",
   "language": "python",
   "name": "python3"
  },
  "language_info": {
   "codemirror_mode": {
    "name": "ipython",
    "version": 3
   },
   "file_extension": ".py",
   "mimetype": "text/x-python",
   "name": "python",
   "nbconvert_exporter": "python",
   "pygments_lexer": "ipython3",
   "version": "3.10.8"
  },
  "orig_nbformat": 4,
  "vscode": {
   "interpreter": {
    "hash": "b0fa6594d8f4cbf19f97940f81e996739fb7646882a419484c72d19e05852a7e"
   }
  }
 },
 "nbformat": 4,
 "nbformat_minor": 2
}
